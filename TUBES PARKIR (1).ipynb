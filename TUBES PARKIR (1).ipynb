{
 "cells": [
  {
   "cell_type": "code",
   "execution_count": null,
   "id": "11d89a1f-10f1-4adf-8a51-176a3dd50029",
   "metadata": {},
   "outputs": [
    {
     "name": "stdout",
     "output_type": "stream",
     "text": [
      "===== SMART PARKIR =====\n",
      "1. Tambah Kendaraan Masuk\n",
      "2. Proses Kendaraan Keluar\n",
      "3. Tampilkan Daftar Kendaraan\n",
      "4. Cari Plat Nomor (Masih Parkir)\n",
      "5. Urutkan Durasi Parkir (Ascending)\n",
      "6. Keluar\n"
     ]
    },
    {
     "name": "stdin",
     "output_type": "stream",
     "text": [
      "\n",
      "Pilih menu (1-6):  1\n",
      "Masukkan plat nomor:  C 2905 MEI\n",
      "Jenis kendaraan (motor/mobil):  MOBIL\n",
      "Jam masuk (Jam:Menit:Detik):  01:00:00\n"
     ]
    },
    {
     "name": "stdout",
     "output_type": "stream",
     "text": [
      "Data valid dan telah disimpan.\n"
     ]
    },
    {
     "name": "stdin",
     "output_type": "stream",
     "text": [
      "\n",
      "Pilih menu (1-6):  1\n",
      "Masukkan plat nomor:  Z 1010 CA\n",
      "Jenis kendaraan (motor/mobil):  MOBIL\n",
      "Jam masuk (Jam:Menit:Detik):  01:30:00\n"
     ]
    },
    {
     "name": "stdout",
     "output_type": "stream",
     "text": [
      "Data valid dan telah disimpan.\n"
     ]
    },
    {
     "name": "stdin",
     "output_type": "stream",
     "text": [
      "\n",
      "Pilih menu (1-6):  1\n",
      "Masukkan plat nomor:  A 2020 BA\n",
      "Jenis kendaraan (motor/mobil):  MOBIL \n",
      "Jam masuk (Jam:Menit:Detik):  02:00:00\n"
     ]
    },
    {
     "name": "stdout",
     "output_type": "stream",
     "text": [
      "Data valid dan telah disimpan.\n"
     ]
    },
    {
     "name": "stdin",
     "output_type": "stream",
     "text": [
      "\n",
      "Pilih menu (1-6):  1\n",
      "Masukkan plat nomor:  PQ 0909 PW\n",
      "Jenis kendaraan (motor/mobil):  MOBIL\n",
      "Jam masuk (Jam:Menit:Detik):  04:00:00\n"
     ]
    },
    {
     "name": "stdout",
     "output_type": "stream",
     "text": [
      "Data valid dan telah disimpan.\n"
     ]
    },
    {
     "name": "stdin",
     "output_type": "stream",
     "text": [
      "\n",
      "Pilih menu (1-6):  3\n"
     ]
    },
    {
     "name": "stdout",
     "output_type": "stream",
     "text": [
      "\n",
      "---- Daftar Kendaraan ----\n",
      "1. Plat: C 2905 MEI, Jenis: MOBIL, Masuk: 01:00:00, Status: Masih Parkir\n",
      "2. Plat: Z 1010 CA, Jenis: MOBIL, Masuk: 01:30:00, Status: Masih Parkir\n",
      "3. Plat: A 2020 BA, Jenis: MOBIL , Masuk: 02:00:00, Status: Masih Parkir\n",
      "4. Plat: PQ 0909 PW, Jenis: MOBIL, Masuk: 04:00:00, Status: Masih Parkir\n",
      "\n"
     ]
    },
    {
     "name": "stdin",
     "output_type": "stream",
     "text": [
      "\n",
      "Pilih menu (1-6):  4\n",
      "Masukkan plat nomor yang ingin dicari:  C 2905 MEI\n"
     ]
    },
    {
     "name": "stdout",
     "output_type": "stream",
     "text": [
      "Ditemukan:\n",
      "Plat: C 2905 MEI, Jenis: MOBIL, Masuk: 01:00:00\n"
     ]
    },
    {
     "name": "stdin",
     "output_type": "stream",
     "text": [
      "\n",
      "Pilih menu (1-6):  5\n"
     ]
    },
    {
     "name": "stdout",
     "output_type": "stream",
     "text": [
      "\n",
      "---- Data Diurutkan Berdasarkan Durasi Parkir (Ascending) ----\n",
      "1. Plat: PQ 0909 PW, Jenis: MOBIL, Masuk: 04:00:00, Status: Masih Parkir\n",
      "2. Plat: A 2020 BA, Jenis: MOBIL , Masuk: 02:00:00, Status: Masih Parkir\n",
      "3. Plat: Z 1010 CA, Jenis: MOBIL, Masuk: 01:30:00, Status: Masih Parkir\n",
      "4. Plat: C 2905 MEI, Jenis: MOBIL, Masuk: 01:00:00, Status: Masih Parkir\n",
      "\n"
     ]
    },
    {
     "name": "stdin",
     "output_type": "stream",
     "text": [
      "\n",
      "Pilih menu (1-6):  2\n",
      "Masukkan plat nomor kendaraan:  C 2905 MEI\n",
      "Masukkan jam keluar (Jam:Menit:Detik):  16:00:00\n"
     ]
    },
    {
     "name": "stdout",
     "output_type": "stream",
     "text": [
      "Kendaraan keluar:\n",
      "Plat: C 2905 MEI, Jenis: MOBIL\n",
      "Masuk: 01:00:00, Keluar: 16:00:00\n",
      "Biaya: Rp5000\n"
     ]
    },
    {
     "name": "stdin",
     "output_type": "stream",
     "text": [
      "\n",
      "Pilih menu (1-6):  2\n",
      "Masukkan plat nomor kendaraan:  Z 1010 CA\n",
      "Masukkan jam keluar (Jam:Menit:Detik):  23:59:59\n"
     ]
    },
    {
     "name": "stdout",
     "output_type": "stream",
     "text": [
      "Kendaraan keluar:\n",
      "Plat: Z 1010 CA, Jenis: MOBIL\n",
      "Masuk: 01:30:00, Keluar: 23:59:59\n",
      "Biaya: Rp12000\n"
     ]
    }
   ],
   "source": [
    "from datetime import datetime\n",
    "\n",
    "# Struktur Data\n",
    "MAX = 100\n",
    "data_parkiran = [None] * MAX\n",
    "jumlah_kendaraan = 0\n",
    "\n",
    "class Kendaraan:\n",
    "    def __init__(self, plat_nomor, jenis_kendaraan, jam_masuk, jam_keluar=None):\n",
    "        self.plat_nomor = plat_nomor\n",
    "        self.jenis_kendaraan = jenis_kendaraan\n",
    "        self.jam_masuk = jam_masuk\n",
    "        self.jam_keluar = jam_keluar\n",
    "        self.biaya = 0\n",
    "\n",
    "def plat_unik(plat_nomor):\n",
    "    for i in range(jumlah_kendaraan):\n",
    "        if data_parkiran[i].plat_nomor == plat_nomor and data_parkiran[i].jam_keluar is None:\n",
    "            return False\n",
    "    return True\n",
    "\n",
    "def tambah_kendaraan(plat_nomor, jenis_kendaraan, jam_masuk):\n",
    "    global jumlah_kendaraan\n",
    "    if jumlah_kendaraan >= MAX:\n",
    "        return \"Kapasitas parkir penuh!\"\n",
    "    if not plat_unik(plat_nomor):\n",
    "        return \"Plat nomor sudah terdaftar!\"\n",
    "    data_parkiran[jumlah_kendaraan] = Kendaraan(plat_nomor, jenis_kendaraan, jam_masuk)\n",
    "    jumlah_kendaraan += 1\n",
    "    return \"Data valid dan telah disimpan.\"\n",
    "\n",
    "def tampilkan_kendaraan():\n",
    "    if jumlah_kendaraan == 0:\n",
    "        return \"Tidak ada kendaraan yang terdaftar.\"\n",
    "    daftar = \"\"\n",
    "    for i in range(jumlah_kendaraan):\n",
    "        k = data_parkiran[i]\n",
    "        daftar += f\"{i+1}. Plat: {k.plat_nomor}, Jenis: {k.jenis_kendaraan}, Masuk: {k.jam_masuk}, \"\n",
    "        if k.jam_keluar:\n",
    "            daftar += f\"Keluar: {k.jam_keluar}, Biaya: Rp{k.biaya}\\n\"\n",
    "        else:\n",
    "            daftar += \"Status: Masih Parkir\\n\"\n",
    "    return daftar\n",
    "\n",
    "def cari_kendaraan(plat_nomor):\n",
    "    for i in range(jumlah_kendaraan):\n",
    "        k = data_parkiran[i]\n",
    "        if k.plat_nomor == plat_nomor and k.jam_keluar is None:\n",
    "            return k\n",
    "    return None\n",
    "\n",
    "def hitung_durasi(jam_masuk, jam_keluar):\n",
    "    fmt = \"%H:%M:%S\"\n",
    "    masuk = datetime.strptime(jam_masuk, fmt)\n",
    "    keluar = datetime.strptime(jam_keluar, fmt)\n",
    "    durasi = keluar - masuk\n",
    "    return durasi.seconds // 60\n",
    "\n",
    "def hitung_biaya(jam_masuk, jam_keluar, tarif_biaya):\n",
    "    durasi = hitung_durasi(jam_masuk, jam_keluar)\n",
    "    total_jam = max(1, durasi // 60)\n",
    "    if total_jam <= 15:\n",
    "        return tarif_biaya\n",
    "    else:\n",
    "        denda = (total_jam - 15) * 1000\n",
    "        return tarif_biaya + denda\n",
    "\n",
    "def set_keluar(plat_nomor, jam_keluar):\n",
    "    k = cari_kendaraan(plat_nomor)\n",
    "    if k:\n",
    "        k.jam_keluar = jam_keluar\n",
    "        tarif = 3000 if k.jenis_kendaraan.lower() == \"motor\" else 5000\n",
    "        k.biaya = hitung_biaya(k.jam_masuk, jam_keluar, tarif)\n",
    "        return (\n",
    "            f\"Kendaraan keluar:\\n\"\n",
    "            f\"Plat: {k.plat_nomor}, Jenis: {k.jenis_kendaraan}\\n\"\n",
    "            f\"Masuk: {k.jam_masuk}, Keluar: {k.jam_keluar}\\n\"\n",
    "            f\"Biaya: Rp{k.biaya}\"\n",
    "        )\n",
    "    else:\n",
    "        return \"Kendaraan tidak ditemukan atau sudah keluar.\"\n",
    "\n",
    "def insertion_sort_durasi():\n",
    "    for i in range(1, jumlah_kendaraan):\n",
    "        temp = data_parkiran[i]\n",
    "        j = i - 1\n",
    "        durasi_temp = hitung_durasi(temp.jam_masuk, temp.jam_keluar or \"23:59:59\")\n",
    "        while j >= 0:\n",
    "            durasi_j = hitung_durasi(data_parkiran[j].jam_masuk, data_parkiran[j].jam_keluar or \"23:59:59\")\n",
    "            if durasi_j > durasi_temp:\n",
    "                data_parkiran[j + 1] = data_parkiran[j]\n",
    "                j -= 1\n",
    "            else:\n",
    "                lanjut = False\n",
    "        data_parkiran[j + 1] = temp\n",
    "\n",
    "def cari_kendaraan_sequential(plat_nomor):\n",
    "    for i in range(jumlah_kendaraan):\n",
    "        k = data_parkiran[i]\n",
    "        if k.plat_nomor.lower() == plat_nomor.lower() and k.jam_keluar is None:\n",
    "            return f\"Ditemukan:\\nPlat: {k.plat_nomor}, Jenis: {k.jenis_kendaraan}, Masuk: {k.jam_masuk}\"\n",
    "    return \"Kendaraan tidak ditemukan.\"\n",
    "\n",
    "# Tampilkan menu hanya sekali\n",
    "print(\"===== SMART PARKIR =====\")\n",
    "print(\"1. Tambah Kendaraan Masuk\")\n",
    "print(\"2. Proses Kendaraan Keluar\")\n",
    "print(\"3. Tampilkan Daftar Kendaraan\")\n",
    "print(\"4. Cari Plat Nomor (Masih Parkir)\")\n",
    "print(\"5. Urutkan Durasi Parkir (Ascending)\")\n",
    "print(\"6. Keluar\")\n",
    "\n",
    "# Program utama\n",
    "selesai = False\n",
    "while not selesai:\n",
    "    pilihan = input(\"\\nPilih menu (1-6): \")\n",
    "\n",
    "    if pilihan == \"1\":\n",
    "        plat = input(\"Masukkan plat nomor: \")\n",
    "        jenis = input(\"Jenis kendaraan (motor/mobil): \")\n",
    "        jam_masuk = input(\"Jam masuk (Jam:Menit:Detik): \")\n",
    "        hasil = tambah_kendaraan(plat, jenis, jam_masuk)\n",
    "        print(hasil)\n",
    "\n",
    "    elif pilihan == \"2\":\n",
    "        plat = input(\"Masukkan plat nomor kendaraan: \")\n",
    "        jam_keluar = input(\"Masukkan jam keluar (Jam:Menit:Detik): \")\n",
    "        print(set_keluar(plat, jam_keluar))\n",
    "\n",
    "    elif pilihan == \"3\":\n",
    "        print(\"\\n---- Daftar Kendaraan ----\")\n",
    "        print(tampilkan_kendaraan())\n",
    "\n",
    "    elif pilihan == \"4\":\n",
    "        plat = input(\"Masukkan plat nomor yang ingin dicari: \")\n",
    "        print(cari_kendaraan_sequential(plat))\n",
    "\n",
    "    elif pilihan == \"5\":\n",
    "        insertion_sort_durasi()\n",
    "        print(\"\\n---- Data Diurutkan Berdasarkan Durasi Parkir (Ascending) ----\")\n",
    "        print(tampilkan_kendaraan())\n",
    "\n",
    "    elif pilihan == \"6\":\n",
    "        print(\"Terima kasih. Program selesai.\")\n",
    "        selesai = True\n",
    "\n",
    "    else:\n",
    "        print(\"Pilihan tidak valid.\")\n"
   ]
  },
  {
   "cell_type": "code",
   "execution_count": null,
   "id": "93d76262-42fa-41b4-930a-694dec691a05",
   "metadata": {},
   "outputs": [],
   "source": []
  },
  {
   "cell_type": "code",
   "execution_count": null,
   "id": "3e49d7e7-4728-451c-abf7-664b40b014cb",
   "metadata": {},
   "outputs": [],
   "source": []
  },
  {
   "cell_type": "code",
   "execution_count": null,
   "id": "e60e9c3e-bae4-4d25-ac16-476d348095a4",
   "metadata": {},
   "outputs": [],
   "source": []
  },
  {
   "cell_type": "code",
   "execution_count": null,
   "id": "1d4039db-1f55-46ec-8fcb-3d6e84ca9030",
   "metadata": {},
   "outputs": [],
   "source": []
  },
  {
   "cell_type": "code",
   "execution_count": null,
   "id": "f4e94dc1-6e61-43d9-bcc1-b1b889e404a0",
   "metadata": {},
   "outputs": [],
   "source": []
  }
 ],
 "metadata": {
  "kernelspec": {
   "display_name": "Python 3 (ipykernel)",
   "language": "python",
   "name": "python3"
  },
  "language_info": {
   "codemirror_mode": {
    "name": "ipython",
    "version": 3
   },
   "file_extension": ".py",
   "mimetype": "text/x-python",
   "name": "python",
   "nbconvert_exporter": "python",
   "pygments_lexer": "ipython3",
   "version": "3.12.4"
  }
 },
 "nbformat": 4,
 "nbformat_minor": 5
}
